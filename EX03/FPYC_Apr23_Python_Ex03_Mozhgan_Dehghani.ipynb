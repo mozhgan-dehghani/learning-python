{
 "cells": [
  {
   "attachments": {},
   "cell_type": "markdown",
   "id": "4eb0570f",
   "metadata": {},
   "source": [
    "###### Get a string from input and display the first, last and middle characters.\n",
    "###### Points:\n",
    "###### If the length of the string is even, display the middle two characters.\n",
    "###### The output is exactly the same as the example below"
   ]
  },
  {
   "attachments": {},
   "cell_type": "markdown",
   "id": "000429e2",
   "metadata": {},
   "source": [
    "<img src=\"image.png\" alt=\"Alternative text\" />"
   ]
  },
  {
   "cell_type": "code",
   "execution_count": 1,
   "id": "8e68d383",
   "metadata": {},
   "outputs": [
    {
     "name": "stdout",
     "output_type": "stream",
     "text": [
      "h\n",
      "t\n",
      "First character of Python is: p\n",
      "Last character of Python is: n\n",
      "Middle characters of Python is: th"
     ]
    }
   ],
   "source": [
    "str1 = \"python\"\n",
    "l = len(str1)\n",
    "mi = int(l / 2)\n",
    "print(str1[mi])\n",
    "mii=int((l/2)-1)\n",
    "print(str1[mii])\n",
    "print(f\"First character of Python is: {str1[0]}\")\n",
    "print(f\"Last character of Python is: {str1[5]}\")\n",
    "if l%2 == 0:\n",
    "    print(f\"Middle characters of Python is: {str1[mii]}{str1[mi]}\",end='')\n",
    "else:\n",
    "    print(f\"Middle characters of Python is: {str1[mi]}\")\n",
    "    "
   ]
  },
  {
   "attachments": {},
   "cell_type": "markdown",
   "id": "072292bf",
   "metadata": {},
   "source": [
    "### Get three strings from the input and display in the output any one whose length is greater than the average length of the three strings."
   ]
  },
  {
   "cell_type": "code",
   "execution_count": null,
   "id": "a0a38284",
   "metadata": {},
   "outputs": [],
   "source": [
    "name1 = input(\"enter first string: \")\n",
    "name2 = input(\"enter second string: \")\n",
    "name3 = input(\"enter second string: \")\n",
    "average = (len(name1) + len(name2) + len(name3)) / 3\n",
    "if len(name1)>average:\n",
    "    print(name1)\n",
    "if len(name2)>average:\n",
    "    print(name2)\n",
    "if len(name3)>average:\n",
    "    print(name3)\n"
   ]
  },
  {
   "attachments": {},
   "cell_type": "markdown",
   "id": "504507e2",
   "metadata": {},
   "source": [
    "### Get two strings from the input, if the second string is present in the first string, remove it, otherwise add the second string at the start and end of the first string. Display the new string in the output."
   ]
  },
  {
   "cell_type": "code",
   "execution_count": 2,
   "id": "80067aa0",
   "metadata": {},
   "outputs": [
    {
     "name": "stdout",
     "output_type": "stream",
     "text": [
      "thon\n"
     ]
    }
   ],
   "source": [
    "str1 = \"python\"\n",
    "str2 = \"py\"\n",
    "if  str2 in str1:\n",
    "    print(str1.replace(str2, ''))\n",
    "else:\n",
    "    print(str2+str1+str2)"
   ]
  },
  {
   "attachments": {},
   "cell_type": "markdown",
   "id": "62cb819d",
   "metadata": {},
   "source": [
    "### Find four new methods for strings."
   ]
  },
  {
   "cell_type": "code",
   "execution_count": 3,
   "id": "0d1c6b6b",
   "metadata": {},
   "outputs": [
    {
     "name": "stdout",
     "output_type": "stream",
     "text": [
      "('I ', 'love', ' you')\n"
     ]
    }
   ],
   "source": [
    "txt = \"I love you\"\n",
    "\n",
    "x = txt.partition(\"love\")\n",
    "\n",
    "print(x) #\tReturns a tuple where the string is parted into three par"
   ]
  },
  {
   "cell_type": "code",
   "execution_count": null,
   "id": "63c8c41e",
   "metadata": {},
   "outputs": [],
   "source": [
    "txt = \"mozhgan\"\n",
    "\n",
    "x = txt.center(100)\n",
    "\n",
    "print(x)  #Returns a centered string"
   ]
  },
  {
   "cell_type": "code",
   "execution_count": null,
   "id": "14e1c131",
   "metadata": {},
   "outputs": [],
   "source": [
    "first_name=input(\"pleas inter your first name\")\n",
    "print(first_name)\n",
    "first_name2=full_name.capitalize()\n",
    "print(first_name2) #Converts the first character of the first word to a capital letter"
   ]
  },
  {
   "cell_type": "code",
   "execution_count": null,
   "id": "2fafc4d9",
   "metadata": {},
   "outputs": [],
   "source": [
    "txt = \"THIS IS NOW!\"\n",
    "\n",
    "x = txt.isupper()\n",
    "\n",
    "print(x)   #Returns True if all characters in the string are upper case"
   ]
  }
 ],
 "metadata": {
  "kernelspec": {
   "display_name": "Python 3 (ipykernel)",
   "language": "python",
   "name": "python3"
  },
  "language_info": {
   "codemirror_mode": {
    "name": "ipython",
    "version": 3
   },
   "file_extension": ".py",
   "mimetype": "text/x-python",
   "name": "python",
   "nbconvert_exporter": "python",
   "pygments_lexer": "ipython3",
   "version": "3.10.9"
  }
 },
 "nbformat": 4,
 "nbformat_minor": 5
}
