{
 "cells": [
  {
   "attachments": {},
   "cell_type": "markdown",
   "id": "c5246d3a",
   "metadata": {},
   "source": [
    "# Question 1 (Basics)\n",
    "##### For each of the following variables, first show the type of the variable, then change it to the requested type and show the type again.\n",
    "##### Change to float and integer:"
   ]
  },
  {
   "cell_type": "code",
   "execution_count": 6,
   "id": "76cdec19",
   "metadata": {},
   "outputs": [
    {
     "name": "stdout",
     "output_type": "stream",
     "text": [
      "<class 'float'>\n",
      "<class 'float'>\n",
      "<class 'int'>\n"
     ]
    }
   ],
   "source": [
    "num1=12.5\n",
    "print(type(num1))\n",
    "num1=float(num1)\n",
    "print(type(num1))\n",
    "num1=int(num1)\n",
    "print(type(num1))"
   ]
  },
  {
   "cell_type": "code",
   "execution_count": 10,
   "id": "513b0e61",
   "metadata": {},
   "outputs": [
    {
     "name": "stdout",
     "output_type": "stream",
     "text": [
      "<class 'str'>\n",
      "<class 'float'>\n",
      "<class 'int'>\n"
     ]
    }
   ],
   "source": [
    "num2=\"050\"\n",
    "print(type(num2))\n",
    "num2=float(num2)\n",
    "print(type(num2))\n",
    "num2=int(num2)\n",
    "print(type(num2))"
   ]
  },
  {
   "cell_type": "code",
   "execution_count": 11,
   "id": "df5c3296",
   "metadata": {},
   "outputs": [
    {
     "name": "stdout",
     "output_type": "stream",
     "text": [
      "<class 'str'>\n",
      "<class 'float'>\n",
      "<class 'int'>\n"
     ]
    }
   ],
   "source": [
    "num3=\"20\"\n",
    "print(type(num3))\n",
    "num3=float(num3)\n",
    "print(type(num3))\n",
    "num3=int(num3)\n",
    "print(type(num3))\n"
   ]
  },
  {
   "cell_type": "code",
   "execution_count": 1,
   "id": "d387ce9b",
   "metadata": {},
   "outputs": [
    {
     "name": "stdout",
     "output_type": "stream",
     "text": [
      "<class 'str'>\n"
     ]
    },
    {
     "ename": "ValueError",
     "evalue": "could not convert string to float: 's98234'",
     "output_type": "error",
     "traceback": [
      "\u001b[1;31m---------------------------------------------------------------------------\u001b[0m",
      "\u001b[1;31mValueError\u001b[0m                                Traceback (most recent call last)",
      "Cell \u001b[1;32mIn[1], line 3\u001b[0m\n\u001b[0;32m      1\u001b[0m student_num \u001b[38;5;241m=\u001b[39m \u001b[38;5;124m\"\u001b[39m\u001b[38;5;124ms98234\u001b[39m\u001b[38;5;124m\"\u001b[39m\n\u001b[0;32m      2\u001b[0m \u001b[38;5;28mprint\u001b[39m(\u001b[38;5;28mtype\u001b[39m(student_num))\n\u001b[1;32m----> 3\u001b[0m student_num\u001b[38;5;241m=\u001b[39m\u001b[38;5;28;43mfloat\u001b[39;49m\u001b[43m(\u001b[49m\u001b[43mstudent_num\u001b[49m\u001b[43m)\u001b[49m\n\u001b[0;32m      4\u001b[0m \u001b[38;5;28mprint\u001b[39m(\u001b[38;5;28mtype\u001b[39m(student_num))\n",
      "\u001b[1;31mValueError\u001b[0m: could not convert string to float: 's98234'"
     ]
    }
   ],
   "source": [
    "student_num = \"s98234\"\n",
    "print(type(student_num))\n",
    "student_num=float(student_num)\n",
    "print(type(student_num))\n",
    "#Because of the presence of the letter S could not convert string to float and integer"
   ]
  },
  {
   "cell_type": "code",
   "execution_count": 15,
   "id": "743ebeca",
   "metadata": {},
   "outputs": [
    {
     "name": "stdout",
     "output_type": "stream",
     "text": [
      "<class 'bool'>\n",
      "<class 'float'>\n",
      "<class 'int'>\n",
      "1\n"
     ]
    }
   ],
   "source": [
    "flag = True\n",
    "print(type(flag))\n",
    "flag=float(flag)\n",
    "print(type(flag))\n",
    "flag=int(flag)\n",
    "print(type(flag))"
   ]
  },
  {
   "attachments": {},
   "cell_type": "markdown",
   "id": "c4470fe4",
   "metadata": {},
   "source": [
    "##### Change to boolean:\n"
   ]
  },
  {
   "cell_type": "code",
   "execution_count": 19,
   "id": "c8efef25",
   "metadata": {},
   "outputs": [
    {
     "name": "stdout",
     "output_type": "stream",
     "text": [
      "<class 'int'>\n",
      "<class 'bool'>\n",
      "True\n"
     ]
    }
   ],
   "source": [
    "num1 = -20\n",
    "print(type(num1))\n",
    "num1=bool(num1)\n",
    "print(type(num1))"
   ]
  },
  {
   "cell_type": "code",
   "execution_count": 21,
   "id": "fa5ef02e",
   "metadata": {},
   "outputs": [
    {
     "name": "stdout",
     "output_type": "stream",
     "text": [
      "<class 'int'>\n",
      "<class 'bool'>\n",
      "False\n"
     ]
    }
   ],
   "source": [
    "num2 = 00\n",
    "print(type(num2))\n",
    "num2=bool(num2)\n",
    "print(type(num2))"
   ]
  },
  {
   "cell_type": "code",
   "execution_count": 23,
   "id": "da4f1bdd",
   "metadata": {},
   "outputs": [
    {
     "name": "stdout",
     "output_type": "stream",
     "text": [
      "<class 'bool'>\n",
      "<class 'bool'>\n",
      "False\n"
     ]
    }
   ],
   "source": [
    "flag = \"False\"\n",
    "print(type(num2))\n",
    "num2=bool(num2)\n",
    "print(type(num2))\n",
    "\n"
   ]
  },
  {
   "attachments": {},
   "cell_type": "markdown",
   "id": "fe9dd042",
   "metadata": {},
   "source": [
    "# Question 2 (Basics)\n",
    "##### Display average of the following three variables in the output."
   ]
  },
  {
   "cell_type": "code",
   "execution_count": 3,
   "id": "c76af66b",
   "metadata": {},
   "outputs": [
    {
     "name": "stdout",
     "output_type": "stream",
     "text": [
      "19.166666666666668\n"
     ]
    }
   ],
   "source": [
    "num1 = 20\n",
    "num2 = 19.\n",
    "num3 = \"18.5\"\n",
    "num3=float(num3)\n",
    "average=(num1+num2+num3)/3\n",
    "print(average)"
   ]
  },
  {
   "attachments": {},
   "cell_type": "markdown",
   "id": "99bb7975",
   "metadata": {},
   "source": [
    "# Question 3 (Basics)\n",
    "##### Define two variables with integer values, then display True if the first variable is greater than the second and display False if it is smaller."
   ]
  },
  {
   "cell_type": "code",
   "execution_count": 4,
   "id": "3eb5c00c",
   "metadata": {},
   "outputs": [
    {
     "name": "stdout",
     "output_type": "stream",
     "text": [
      "True\n"
     ]
    }
   ],
   "source": [
    "num1=2\n",
    "num2=1\n",
    "print(num1>num2)"
   ]
  },
  {
   "attachments": {},
   "cell_type": "markdown",
   "id": "cb4305cd",
   "metadata": {},
   "source": [
    "# Question 4 (Basics)\n",
    "##### By getting the length and width of a rectangle, calculate and display its perimeter and area."
   ]
  },
  {
   "cell_type": "code",
   "execution_count": 5,
   "id": "c0e99620",
   "metadata": {},
   "outputs": [
    {
     "name": "stdout",
     "output_type": "stream",
     "text": [
      "pleas inter a number5\n",
      "pleas inter a number5\n",
      "20.0 25.0\n"
     ]
    }
   ],
   "source": [
    "width=float(input(\"pleas inter a number\"))\n",
    "length=float(input(\"pleas inter a number\"))\n",
    "perimeter=2*(width+length)\n",
    "area=width*length\n",
    "print(perimeter , area)"
   ]
  },
  {
   "attachments": {},
   "cell_type": "markdown",
   "id": "7ee4d12d",
   "metadata": {},
   "source": [
    "# Question 5 (Basics)\n",
    "##### In the figure below, calculate the area of the colored part by getting the radius of the circle."
   ]
  },
  {
   "attachments": {},
   "cell_type": "markdown",
   "id": "d0c6d9d2",
   "metadata": {},
   "source": [
    "<img src=\"GU.png\" alt=\"Alternative text\" />"
   ]
  },
  {
   "cell_type": "code",
   "execution_count": 6,
   "id": "cede2c5b",
   "metadata": {},
   "outputs": [
    {
     "name": "stdout",
     "output_type": "stream",
     "text": [
      "please inter a number4\n",
      "16.0\n",
      "12.56\n",
      "3.4399999999999995\n"
     ]
    }
   ],
   "source": [
    "r=float(input(\"please inter a number\"))\n",
    "area1=r*r\n",
    "print(area1)\n",
    "area2=3.14* ((r/2)**2)\n",
    "print(area2)\n",
    "area3=area1-area2\n",
    "print(area3)"
   ]
  },
  {
   "attachments": {},
   "cell_type": "markdown",
   "id": "b2c664e7",
   "metadata": {},
   "source": [
    "# Question 6 (Basics)\n",
    "##### In the following three lines, display the value of num1, num2, num3.\n",
    "##### num1 = num2 = num3 = 200\n",
    "##### num1 , num2 , num3 = 10, 20, 145\n",
    "#####  num1 , num2 , num3 = 30, 100"
   ]
  },
  {
   "cell_type": "code",
   "execution_count": 7,
   "id": "1483f7f1",
   "metadata": {},
   "outputs": [
    {
     "name": "stdout",
     "output_type": "stream",
     "text": [
      "200 200 200\n"
     ]
    }
   ],
   "source": [
    "num1 = num2 = num3 = 200\n",
    "print(num1 , num2 , num3)"
   ]
  },
  {
   "cell_type": "code",
   "execution_count": 8,
   "id": "aaf8f88b",
   "metadata": {},
   "outputs": [
    {
     "name": "stdout",
     "output_type": "stream",
     "text": [
      "10 20 145\n"
     ]
    }
   ],
   "source": [
    "num1 , num2 , num3 = 10, 20, 145\n",
    "print(num1 , num2 , num3)"
   ]
  },
  {
   "cell_type": "code",
   "execution_count": 9,
   "id": "a2edef24",
   "metadata": {},
   "outputs": [
    {
     "ename": "ValueError",
     "evalue": "not enough values to unpack (expected 3, got 2)",
     "output_type": "error",
     "traceback": [
      "\u001b[1;31m---------------------------------------------------------------------------\u001b[0m",
      "\u001b[1;31mValueError\u001b[0m                                Traceback (most recent call last)",
      "Cell \u001b[1;32mIn[9], line 1\u001b[0m\n\u001b[1;32m----> 1\u001b[0m num1 , num2 , num3 \u001b[38;5;241m=\u001b[39m \u001b[38;5;241m30\u001b[39m, \u001b[38;5;241m100\u001b[39m\n\u001b[0;32m      2\u001b[0m \u001b[38;5;28mprint\u001b[39m(num1 , num2 , num3 )\n",
      "\u001b[1;31mValueError\u001b[0m: not enough values to unpack (expected 3, got 2)"
     ]
    }
   ],
   "source": [
    "num1 , num2 , num3 = 30, 100\n",
    "print(num1 , num2 , num3 )\n",
    "#The number of variables and the number of inputs must be equal. Here we have three variables and two values, that's why an error occurs."
   ]
  },
  {
   "cell_type": "code",
   "execution_count": 10,
   "id": "0cc896c4",
   "metadata": {},
   "outputs": [
    {
     "name": "stdout",
     "output_type": "stream",
     "text": [
      "30 100 200\n"
     ]
    }
   ],
   "source": [
    "num1 , num2 , num3 = 30, 100,200\n",
    "print(num1 , num2 , num3 )"
   ]
  },
  {
   "cell_type": "code",
   "execution_count": null,
   "id": "9d1b20e9",
   "metadata": {},
   "outputs": [],
   "source": []
  }
 ],
 "metadata": {
  "kernelspec": {
   "display_name": "Python 3 (ipykernel)",
   "language": "python",
   "name": "python3"
  },
  "language_info": {
   "codemirror_mode": {
    "name": "ipython",
    "version": 3
   },
   "file_extension": ".py",
   "mimetype": "text/x-python",
   "name": "python",
   "nbconvert_exporter": "python",
   "pygments_lexer": "ipython3",
   "version": "3.10.9"
  }
 },
 "nbformat": 4,
 "nbformat_minor": 5
}
