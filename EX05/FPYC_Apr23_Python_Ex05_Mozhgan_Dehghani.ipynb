{
 "cells": [
  {
   "attachments": {},
   "cell_type": "markdown",
   "metadata": {},
   "source": [
    "<img src=\"1.png\" alt=\"Alternative text\" />"
   ]
  },
  {
   "cell_type": "code",
   "execution_count": 1,
   "metadata": {},
   "outputs": [
    {
     "name": "stdout",
     "output_type": "stream",
     "text": [
      "8\n",
      "2 10\n"
     ]
    }
   ],
   "source": [
    "my_list = [2 , 15 , 0 ,\"python\" , 4.6 , \"java\" , 90 , 10]\n",
    "c= len (my_list)\n",
    "print(c)\n",
    "print(my_list[0], my_list[c-1])"
   ]
  },
  {
   "cell_type": "code",
   "execution_count": 16,
   "metadata": {},
   "outputs": [
    {
     "name": "stdout",
     "output_type": "stream",
     "text": [
      "8\n",
      "[15, 0, 'python', 4.6, 'java', 90]\n"
     ]
    }
   ],
   "source": [
    "my_list = [2 , 15 , 0 ,\"python\" , 4.6 , \"java\" , 90 , 10]\n",
    "c= len (my_list)\n",
    "print(c)\n",
    "my_list.pop(0) \n",
    "my_list.pop()\n",
    "print(my_list)"
   ]
  },
  {
   "cell_type": "code",
   "execution_count": 14,
   "metadata": {},
   "outputs": [
    {
     "ename": "ValueError",
     "evalue": "list.remove(x): x not in list",
     "output_type": "error",
     "traceback": [
      "\u001b[1;31m---------------------------------------------------------------------------\u001b[0m",
      "\u001b[1;31mValueError\u001b[0m                                Traceback (most recent call last)",
      "Cell \u001b[1;32mIn[14], line 3\u001b[0m\n\u001b[0;32m      1\u001b[0m my_list \u001b[39m=\u001b[39m [\u001b[39m2\u001b[39m , \u001b[39m15\u001b[39m ,\u001b[39m\"\u001b[39m\u001b[39mpython\u001b[39m\u001b[39m\"\u001b[39m , \u001b[39m4.6\u001b[39m , \u001b[39m\"\u001b[39m\u001b[39mjava\u001b[39m\u001b[39m\"\u001b[39m , \u001b[39m90\u001b[39m , \u001b[39m10\u001b[39m]\n\u001b[0;32m      2\u001b[0m my_list\u001b[39m.\u001b[39mremove(\u001b[39m90\u001b[39m)\n\u001b[1;32m----> 3\u001b[0m my_list\u001b[39m.\u001b[39;49mremove(\u001b[39m300\u001b[39;49m)\n\u001b[0;32m      4\u001b[0m \u001b[39mprint\u001b[39m(my_list)\n",
      "\u001b[1;31mValueError\u001b[0m: list.remove(x): x not in list"
     ]
    }
   ],
   "source": [
    "my_list = [2 , 15 , 0 ,\"python\" , 4.6 , \"java\" , 90 , 10]\n",
    "my_list.remove(90)\n",
    "my_list.remove(300) #ValueError: list.remove(300): 300 not in list\n",
    "print(my_list)"
   ]
  },
  {
   "cell_type": "code",
   "execution_count": 18,
   "metadata": {},
   "outputs": [
    {
     "name": "stdout",
     "output_type": "stream",
     "text": [
      "[2, 15, 5, 0, 'python', 4.6, 'java', 90, 10]\n"
     ]
    }
   ],
   "source": [
    "my_list = [2 , 15 , 0 ,\"python\" , 4.6 , \"java\" , 90 , 10]\n",
    "my_list.insert(2,5)\n",
    "print(my_list)"
   ]
  },
  {
   "cell_type": "code",
   "execution_count": 31,
   "metadata": {},
   "outputs": [
    {
     "name": "stdout",
     "output_type": "stream",
     "text": [
      "[2, 15, 0, 'js', 4.6, 'java', 90, 10]\n"
     ]
    }
   ],
   "source": [
    "my_list = [2 , 15 , 0 ,\"python\" , 4.6 , \"java\" , 90 , 10]\n",
    "if \"python\" in my_list:\n",
    "    item = \"python\"\n",
    "    index = my_list.index(item)\n",
    "    my_list[index] = \"js\"\n",
    "print(my_list)\n"
   ]
  },
  {
   "cell_type": "code",
   "execution_count": 7,
   "metadata": {},
   "outputs": [
    {
     "name": "stdout",
     "output_type": "stream",
     "text": [
      "[2, 15, 0, 'python', 4.6, 'java', 90, 10, 50]\n"
     ]
    }
   ],
   "source": [
    "my_list = [2 , 15 , 0 ,\"python\" , 4.6 , \"java\" , 90 , 10]\n",
    "l=len(my_list)\n",
    "my_list.insert(l,50)\n",
    "print(my_list)"
   ]
  },
  {
   "cell_type": "code",
   "execution_count": 34,
   "metadata": {},
   "outputs": [
    {
     "name": "stdout",
     "output_type": "stream",
     "text": [
      "yes\n"
     ]
    }
   ],
   "source": [
    "my_list = [2 , 15 , 0 ,\"python\" , 4.6 , \"java\" , 90 , 10]\n",
    "if 0 in my_list:\n",
    "    print(\"yes\")\n",
    "else:\n",
    "    print(\"no\")"
   ]
  },
  {
   "attachments": {},
   "cell_type": "markdown",
   "metadata": {},
   "source": [
    "### Get a string in one of the following forms from the input and display the expected result."
   ]
  },
  {
   "attachments": {},
   "cell_type": "markdown",
   "metadata": {},
   "source": [
    "<img src=\"2.png\" alt=\"Alternative text\" />"
   ]
  },
  {
   "cell_type": "code",
   "execution_count": 11,
   "metadata": {},
   "outputs": [
    {
     "name": "stdout",
     "output_type": "stream",
     "text": [
      "8 / 9 = ?\n",
      "0.8888888888888888\n"
     ]
    }
   ],
   "source": [
    "str1 = input(\"please inter a sample\")\n",
    "print (str1)\n",
    "list = str1.split()\n",
    "num1 = float(list[0])\n",
    "num2 = float(list[2])\n",
    "if list[1] == \"-\" :\n",
    "    print(num1 - num2)\n",
    "elif list[1] == \"+\":\n",
    "    print(num1 + num2)\n",
    "elif list[1] == \"*\":\n",
    "    print(num1 * num2)\n",
    "elif list[1] == \"/\":\n",
    "    if num2==0:\n",
    "        print(f\"{num1}/{num2} = error\")\n",
    "    else:\n",
    "        print(num1 / num2)\n"
   ]
  },
  {
   "attachments": {},
   "cell_type": "markdown",
   "metadata": {},
   "source": [
    "### Based on the two lists below, make a third list that includes the data that is in the first list and not in the second list."
   ]
  },
  {
   "cell_type": "code",
   "execution_count": 35,
   "metadata": {},
   "outputs": [
    {
     "name": "stdout",
     "output_type": "stream",
     "text": [
      "[2, 34, 18]\n"
     ]
    }
   ],
   "source": [
    "list1=[12 , 2 , 34 , 10 , 4 , 18 , 10]\n",
    "list2=[12 , 100 , 10 , 4 , 5 , 50]\n",
    "list3=[]\n",
    "for i in list1:\n",
    "    if i not in list2:\n",
    "        list3.append(i)\n",
    "print(list3)"
   ]
  },
  {
   "attachments": {},
   "cell_type": "markdown",
   "metadata": {},
   "source": [
    "### Display the minimum, maximum, sum, average, length, and median for the list below.\n",
    "### numbers = [10 , 20 , 20 , 12 , 30 , 45 , 2.4 , 1.5]"
   ]
  },
  {
   "cell_type": "code",
   "execution_count": 36,
   "metadata": {},
   "outputs": [
    {
     "name": "stdout",
     "output_type": "stream",
     "text": [
      "45\n"
     ]
    }
   ],
   "source": [
    "numbers = [10 , 20 , 20 , 12 , 30 , 45 , 2.4 , 1.5]\n",
    "max_value = numbers[0]\n",
    "for i in numbers:\n",
    "    if i > max_value:\n",
    "        max_value = i\n",
    "print(max_value)"
   ]
  },
  {
   "cell_type": "code",
   "execution_count": 37,
   "metadata": {},
   "outputs": [
    {
     "name": "stdout",
     "output_type": "stream",
     "text": [
      "1.5\n"
     ]
    }
   ],
   "source": [
    "numbers = [10 , 20 , 20 , 12 , 30 , 45 , 2.4 , 1.5]\n",
    "min_value = numbers[0]\n",
    "for i in numbers:\n",
    "    if i < min_value:\n",
    "        min_value = i\n",
    "print(min_value)"
   ]
  },
  {
   "cell_type": "code",
   "execution_count": 41,
   "metadata": {},
   "outputs": [
    {
     "name": "stdout",
     "output_type": "stream",
     "text": [
      "140.9\n",
      "17.6125\n"
     ]
    }
   ],
   "source": [
    "numbers = [10 , 20 , 20 , 12 , 30 , 45 , 2.4 , 1.5]\n",
    "sum=0\n",
    "for i in numbers:\n",
    "    sum+=i\n",
    "print(sum)\n",
    "l=len(numbers)\n",
    "ave = sum/l\n",
    "print(ave)"
   ]
  },
  {
   "cell_type": "code",
   "execution_count": 51,
   "metadata": {},
   "outputs": [
    {
     "name": "stdout",
     "output_type": "stream",
     "text": [
      "20\n"
     ]
    }
   ],
   "source": [
    "numbers = [10 , 20 , 20 , 12 , 30 , 45 , 2.4 ]\n",
    "numbers.sort()\n",
    "l = len(numbers)\n",
    "if l % 2 == 0:\n",
    "    i= l//2\n",
    "    median = (numbers[i]+ numbers[i-1])/2\n",
    "    print(median)\n",
    "else:\n",
    "    i= l//2\n",
    "    print(numbers[i])\n"
   ]
  }
 ],
 "metadata": {
  "kernelspec": {
   "display_name": "base",
   "language": "python",
   "name": "python3"
  },
  "language_info": {
   "codemirror_mode": {
    "name": "ipython",
    "version": 3
   },
   "file_extension": ".py",
   "mimetype": "text/x-python",
   "name": "python",
   "nbconvert_exporter": "python",
   "pygments_lexer": "ipython3",
   "version": "3.10.9"
  },
  "orig_nbformat": 4
 },
 "nbformat": 4,
 "nbformat_minor": 2
}
