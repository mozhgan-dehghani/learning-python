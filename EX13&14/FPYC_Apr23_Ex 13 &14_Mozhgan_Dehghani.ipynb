{
 "cells": [
  {
   "attachments": {},
   "cell_type": "markdown",
   "metadata": {},
   "source": [
    "<div>\n",
    "<h2 style=\"background-color:Purple;text-align:center;border-radius:40px;border: 1px;padding: 20px; color:white\"><b>Filoger Hands On Prerequisite Python For AI <br>Exercises 13 & 14 | Deadline: 2023 31 May <br> Score: 800</h2>\n",
    "</div>"
   ]
  },
  {
   "attachments": {},
   "cell_type": "markdown",
   "metadata": {},
   "source": [
    "# Mozhgan, Dehghani"
   ]
  },
  {
   "attachments": {},
   "cell_type": "markdown",
   "metadata": {},
   "source": [
    "<h3 style=\"background-color:#ff3300\n",
    ";text-align:center;border-radius:40px;border: 1px;padding: 10px;color:white\"><b>Exercises 13<br>Score: 500</h3>"
   ]
  },
  {
   "attachments": {},
   "cell_type": "markdown",
   "metadata": {},
   "source": [
    "<h5 style=\"background-color:#1765e3;text-align:left;border-radius:40px;border: 1px;padding: 10px;color:white\"><b>1- Create a class Rectangle with attributes length and width and methods area(), perimeter()\n",
    "and display() for show length and width. Test your class by creating two objects and call\n",
    "attributes and methods for this objects.(200)</h5>"
   ]
  },
  {
   "cell_type": "code",
   "execution_count": 3,
   "metadata": {},
   "outputs": [],
   "source": [
    "class Rectangle:\n",
    "    def __init__(self, length, wight):\n",
    "        self.length = length\n",
    "        self.wight = wight\n",
    "\n",
    "    def area(selff, length, wight):\n",
    "        area1 = length * wight\n",
    "        print(area1)\n",
    "\n",
    "    def perimeter(self, length, wight):\n",
    "        perimeter1 = 2*(length + wight)\n",
    "        print(perimeter1)\n",
    "\n",
    "    def display(self):\n",
    "        print(f\"length of rectengle: {self.length}\")\n",
    "        print(f\"wight of rectengle: {self.wight}\")\n",
    "        #p = self.perimeter(length, wight)\n",
    "        #a = self.area(length, wight)\n",
    "        #print(f\"primeter of rectengle: {p}\")\n",
    "        #print(f\"area of rectengle: {a}\")\n",
    "        print(\"-\" * 50)"
   ]
  },
  {
   "cell_type": "code",
   "execution_count": 4,
   "metadata": {},
   "outputs": [
    {
     "name": "stdout",
     "output_type": "stream",
     "text": [
      "[<__main__.Rectangle object at 0x000001A366B5AE00>, <__main__.Rectangle object at 0x000001A366B2A8F0>]\n"
     ]
    }
   ],
   "source": [
    "list1 = []\n",
    "for i in range(2):\n",
    "    length1 = float(input(\"Enter the length of the rectangle\"))\n",
    "    wight1 = float(input(\"Enter the wight of the rectangle\"))\n",
    "    obj = Rectangle(length1, wight1)\n",
    "    list1.append(obj)\n",
    "print(list1)"
   ]
  },
  {
   "cell_type": "code",
   "execution_count": 5,
   "metadata": {},
   "outputs": [
    {
     "name": "stdout",
     "output_type": "stream",
     "text": [
      "length of rectengle: 14.0\n",
      "wight of rectengle: 12.0\n",
      "--------------------------------------------------\n"
     ]
    }
   ],
   "source": [
    "list1[0].display()"
   ]
  },
  {
   "cell_type": "code",
   "execution_count": 6,
   "metadata": {},
   "outputs": [
    {
     "name": "stdout",
     "output_type": "stream",
     "text": [
      "260.0\n"
     ]
    }
   ],
   "source": [
    "list1[0].area(length1, wight1)"
   ]
  },
  {
   "cell_type": "code",
   "execution_count": 7,
   "metadata": {},
   "outputs": [
    {
     "name": "stdout",
     "output_type": "stream",
     "text": [
      "66.0\n"
     ]
    }
   ],
   "source": [
    "list1[0].perimeter(length1, wight1)"
   ]
  },
  {
   "attachments": {},
   "cell_type": "markdown",
   "metadata": {},
   "source": [
    "<h5 style=\"background-color:#1765e3;text-align:left;border-radius:40px;border: 1px;padding: 10px;color:white\"><b>2- Create a BankAccount class with 4 attributes and 4 methods as a following.(300)</h5>"
   ]
  },
  {
   "attachments": {},
   "cell_type": "markdown",
   "metadata": {},
   "source": [
    "Attributes:<br>\n",
    "account_number, account_type, holder_name, balance<br><br>\n",
    "Methods:<br>\n",
    "deposite(amount) : get an amount and adds it to the account balance.<br>\n",
    "withdraw(amount): get an amount and subtracts it from the account balance.<br>\n",
    "get_balance(): show only current balance<br>\n",
    "get_all_info(): show all attributes"
   ]
  },
  {
   "cell_type": "code",
   "execution_count": 8,
   "metadata": {},
   "outputs": [],
   "source": [
    "class BankAccount:\n",
    "    def __init__(self, account_number, account_type, holder_name, balance):\n",
    "        self.number = account_number\n",
    "        self.type = account_type\n",
    "        self.name = holder_name\n",
    "        self.balance = balance\n",
    "\n",
    "    def deposite(self):\n",
    "        deposit = float(input(\"Dear customer, please enter your deposit amount: \"))\n",
    "        self.balance += deposit\n",
    "        print(f\"Dear customer, you have deposited the amount of {deposit} to your account and your account balance is equal to: {self.balance}\")\n",
    "\n",
    "    def withdraw(self):\n",
    "        withdraw = float(input(\"Dear customer, please enter your withdrawal amount: \"))    \n",
    "        if withdraw <= self.balance:\n",
    "                self.balance -= withdraw\n",
    "                print(f\"Dear customer, you have withdrawn the amount of {withdraw} from your account and your account balance is equal to: {self.balance}\")\n",
    "        else:\n",
    "            print(\"Dear customer, your requested amount is more than the balance.\")\n",
    "\n",
    "    def get_balance(self):\n",
    "        print(f\"The current balance is equal to: {self.balance}\")\n",
    "\n",
    "    def get_all_info(self):\n",
    "        print(f\"name of holder: {self.name}\")\n",
    "        print(f\"type of accunt {self.name}: {self.type}\")\n",
    "        print(f\"number of accuont {self.name}: {self.number}\")\n",
    "        print(f\"balance of {self.name}: {self.balance}\")\n",
    "        print(\"-\" * 50)"
   ]
  },
  {
   "cell_type": "code",
   "execution_count": 9,
   "metadata": {},
   "outputs": [],
   "source": [
    "Customer = BankAccount(\"881121444\", \"saving\", \"Mozhgan Dehghni\", 100)"
   ]
  },
  {
   "cell_type": "code",
   "execution_count": 10,
   "metadata": {},
   "outputs": [
    {
     "name": "stdout",
     "output_type": "stream",
     "text": [
      "name of holder: Mozhgan Dehghni\n",
      "type of accunt Mozhgan Dehghni: saving\n",
      "number of accuont Mozhgan Dehghni: 881121444\n",
      "balance of Mozhgan Dehghni: 100\n",
      "--------------------------------------------------\n"
     ]
    }
   ],
   "source": [
    "Customer.get_all_info()"
   ]
  },
  {
   "cell_type": "code",
   "execution_count": 11,
   "metadata": {},
   "outputs": [
    {
     "name": "stdout",
     "output_type": "stream",
     "text": [
      "Dear customer, you have deposited the amount of 120.0 to your account and your account balance is equal to: 220.0\n"
     ]
    }
   ],
   "source": [
    "Customer.deposite()"
   ]
  },
  {
   "cell_type": "code",
   "execution_count": 12,
   "metadata": {},
   "outputs": [
    {
     "name": "stdout",
     "output_type": "stream",
     "text": [
      "Dear customer, you have withdrawn the amount of 20.0 from your account and your account balance is equal to: 200.0\n"
     ]
    }
   ],
   "source": [
    "Customer.withdraw()"
   ]
  },
  {
   "cell_type": "code",
   "execution_count": 13,
   "metadata": {},
   "outputs": [
    {
     "name": "stdout",
     "output_type": "stream",
     "text": [
      "name of holder: Mozhgan Dehghni\n",
      "type of accunt Mozhgan Dehghni: saving\n",
      "number of accuont Mozhgan Dehghni: 881121444\n",
      "balance of Mozhgan Dehghni: 200.0\n",
      "--------------------------------------------------\n"
     ]
    }
   ],
   "source": [
    "Customer.get_all_info()"
   ]
  },
  {
   "cell_type": "code",
   "execution_count": 14,
   "metadata": {},
   "outputs": [
    {
     "name": "stdout",
     "output_type": "stream",
     "text": [
      "The current balance is equal to: 200.0\n"
     ]
    }
   ],
   "source": [
    "Customer.get_balance()"
   ]
  },
  {
   "attachments": {},
   "cell_type": "markdown",
   "metadata": {},
   "source": [
    "<h3 style=\"background-color:#ff3300\n",
    ";text-align:center;border-radius:40px;border: 1px;padding: 10px;color:white\"><b>Exercise 14<br>Score: 300</h3>"
   ]
  },
  {
   "attachments": {},
   "cell_type": "markdown",
   "metadata": {},
   "source": [
    "<h5 style=\"background-color:#1765e3;text-align:left;border-radius:40px;border: 1px;padding: 10px;color:white\"><b>1-Write a program such as CartShopping problem, but for book and library. Create\n",
    "two classes one of them for book and another for library, add some attributes and\n",
    "some methods for this classes. This program should be add book in library and\n",
    "display all of book. (300)\n",
    " </h5>"
   ]
  },
  {
   "cell_type": "code",
   "execution_count": 15,
   "metadata": {},
   "outputs": [],
   "source": [
    "class Book:\n",
    "    def __init__(self, p_id, Name, Author, Genre, price, number, discount=0):\n",
    "        self.p_id = p_id\n",
    "        self.Name = Name\n",
    "        self.Author = Author \n",
    "        self.Genre = Genre\n",
    "        self.price = price\n",
    "        self.number = number\n",
    "        self.discount = discount\n",
    "    def name(self):\n",
    "        print(f\"name of book: {self.Name}\")\n",
    "\n",
    "    def author(self):\n",
    "        print(f\"author of book: {self.Author}\")\n",
    "    \n",
    "    def total_price(self):\n",
    "        t_price = self.price * self.number\n",
    "        print(f\"total price: {t_price}\")\n",
    "    def get_all_info(self):\n",
    "        print(f\"p_id of book: {self.p_id}\")\n",
    "        print(f\"name of {self.p_id}: {self.Name}\")\n",
    "        print(f\"author of {self.Name}: {self.Author}\")\n",
    "        print(f\"gener of {self.Name}: {self.Genre}\")\n",
    "        print(f\"price of {self.Name}: {self.price}\")\n",
    "        print(f\"discount of {self.Name}: {self.discount}\")\n",
    "        print(f\"number of {self.Name}: {self.number}\")\n",
    "        print(\"-\"*50)\n",
    "    "
   ]
  },
  {
   "cell_type": "code",
   "execution_count": 16,
   "metadata": {},
   "outputs": [],
   "source": [
    "class Library:\n",
    "    def __init__(self):\n",
    "        self.books = [] \n",
    "\n",
    "    def find_index(self,id):\n",
    "        for i , item in enumerate(self.books):\n",
    "            if item.p_id == id:\n",
    "                return i\n",
    "        return -1\n",
    "    \n",
    "    def add_book(self, book):\n",
    "        index = self.find_index(book.p_id)\n",
    "        if index == -1:\n",
    "            self.books.append(book)\n",
    "            print(\"added\")\n",
    "        else:\n",
    "            print(f\"book with p_id  = {book.p_id} exist\")\n",
    "    def display(self):\n",
    "        for b in self.books:\n",
    "            Book.get_all_info(b)"
   ]
  },
  {
   "cell_type": "code",
   "execution_count": 17,
   "metadata": {},
   "outputs": [
    {
     "data": {
      "text/plain": [
       "'Bamdad Khomar'"
      ]
     },
     "execution_count": 17,
     "metadata": {},
     "output_type": "execute_result"
    }
   ],
   "source": [
    "book = Book(\"b1\",\"Bamdad Khomar\", \"Fataneh Hajihosseini\", \"Roman\", 340, 1, 10)\n",
    "book.Name"
   ]
  },
  {
   "cell_type": "code",
   "execution_count": 18,
   "metadata": {},
   "outputs": [
    {
     "name": "stdout",
     "output_type": "stream",
     "text": [
      "p_id of book: b1\n",
      "name of b1: Bamdad Khomar\n",
      "author of Bamdad Khomar: Fataneh Hajihosseini\n",
      "gener of Bamdad Khomar: Roman\n",
      "price of Bamdad Khomar: 340\n",
      "discount of Bamdad Khomar: 10\n",
      "number of Bamdad Khomar: 1\n",
      "--------------------------------------------------\n"
     ]
    }
   ],
   "source": [
    "book.get_all_info()"
   ]
  },
  {
   "cell_type": "code",
   "execution_count": 19,
   "metadata": {},
   "outputs": [
    {
     "name": "stdout",
     "output_type": "stream",
     "text": [
      "added\n",
      "p_id of book: b1\n",
      "name of b1: python\n",
      "author of python: b\n",
      "gener of python: p\n",
      "price of python: 120\n",
      "discount of python: 1\n",
      "number of python: 2\n",
      "--------------------------------------------------\n"
     ]
    }
   ],
   "source": [
    "library1 = Library()\n",
    "while True:\n",
    "    user = input(\"please select an option: add/ display\")\n",
    "    user = user.lower()\n",
    "    if user == \"add\":\n",
    "        book_info = input(\"inter info of your book: \")\n",
    "        info = book_info.split()\n",
    "        book1 = Book(info[0], info[1], info[2], info[3], info[4], info[5], info[6])\n",
    "        library1.add_book(book1)\n",
    "    elif user == \"display\":\n",
    "        library1.display()\n",
    "    elif user == \"\":\n",
    "        pass\n",
    "    elif user == \"exit\":\n",
    "        break\n",
    "    else:\n",
    "        print(f\"{user}: command not found!\")"
   ]
  }
 ],
 "metadata": {
  "kernelspec": {
   "display_name": "Python 3 (Spyder)",
   "language": "python3",
   "name": "python3"
  },
  "language_info": {
   "codemirror_mode": {
    "name": "ipython",
    "version": 3
   },
   "file_extension": ".py",
   "mimetype": "text/x-python",
   "name": "python",
   "nbconvert_exporter": "python",
   "pygments_lexer": "ipython3",
   "version": "3.10.9"
  }
 },
 "nbformat": 4,
 "nbformat_minor": 4
}
