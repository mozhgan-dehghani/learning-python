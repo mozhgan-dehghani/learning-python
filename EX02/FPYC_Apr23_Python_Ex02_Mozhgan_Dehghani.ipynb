{
 "cells": [
  {
   "attachments": {},
   "cell_type": "markdown",
   "id": "c785e8db",
   "metadata": {},
   "source": [
    "# Question 1 (Conditions)\n",
    "##### Get a number from input and display its absolute value."
   ]
  },
  {
   "cell_type": "code",
   "execution_count": 7,
   "id": "3ecdfeac",
   "metadata": {},
   "outputs": [
    {
     "name": "stdout",
     "output_type": "stream",
     "text": [
      "pleas inter a number20\n",
      "20.0\n"
     ]
    }
   ],
   "source": [
    "number=float(input(\"pleas inter a number\"))\n",
    "if number<0:\n",
    "    print(-number)\n",
    "else:\n",
    "    print(number)\n",
    "    "
   ]
  },
  {
   "attachments": {},
   "cell_type": "markdown",
   "id": "e47d9c76",
   "metadata": {},
   "source": [
    "# Question 2 (Conditions)\n",
    "##### Get three numbers from the user and display the number that is between the other two numbers in the output."
   ]
  },
  {
   "cell_type": "code",
   "execution_count": 1,
   "id": "10b1a7be",
   "metadata": {},
   "outputs": [
    {
     "name": "stdout",
     "output_type": "stream",
     "text": [
      "10\n"
     ]
    }
   ],
   "source": [
    "num1=10\n",
    "num2=3\n",
    "num3=80\n",
    "if num1<num2 and num2<num3:\n",
    "    print(num2)\n",
    "elif num2<num1 and num1<num3:\n",
    "    print(num1)\n",
    "else :\n",
    "    print(num3)"
   ]
  },
  {
   "attachments": {},
   "cell_type": "markdown",
   "id": "146ab96c",
   "metadata": {},
   "source": [
    "# Question 3 (Conditions)\n",
    "##### Define a username and password. Then get username and password from the user, if match the defined information, display a welcome message, and if the information is wrong, display one of the following messages.\n",
    "##### If the username was wrong: \"The username entered is wrong\"\n",
    "##### If the password was wrong: \"The entered password is wrong\"\n",
    "##### If the username and password were wrong: \"the entered information is wrong\"\n"
   ]
  },
  {
   "cell_type": "code",
   "execution_count": 2,
   "id": "c3acb152",
   "metadata": {},
   "outputs": [
    {
     "name": "stdout",
     "output_type": "stream",
     "text": [
      "welcome\n"
     ]
    }
   ],
   "source": [
    "user_name = \"mozhgan\"\n",
    "password = \"m68d88\"\n",
    "u=str(input(\"please inter user name\"))\n",
    "p=str(input(\"please inter password\"))\n",
    "if u==user_name and p==password:\n",
    "    print(\"welcome\")\n",
    "elif u!= user_name and p==password:\n",
    "    print(\"The username entered is wrong\")\n",
    "elif u== user_name and p!=password:\n",
    "    print(\"The entered password is wrong\")\n",
    "else:\n",
    "    print(\"the entered information is wrong\")"
   ]
  },
  {
   "cell_type": "code",
   "execution_count": null,
   "id": "8f8a41cf",
   "metadata": {},
   "outputs": [],
   "source": []
  }
 ],
 "metadata": {
  "kernelspec": {
   "display_name": "Python 3 (ipykernel)",
   "language": "python",
   "name": "python3"
  },
  "language_info": {
   "codemirror_mode": {
    "name": "ipython",
    "version": 3
   },
   "file_extension": ".py",
   "mimetype": "text/x-python",
   "name": "python",
   "nbconvert_exporter": "python",
   "pygments_lexer": "ipython3",
   "version": "3.10.9"
  }
 },
 "nbformat": 4,
 "nbformat_minor": 5
}
