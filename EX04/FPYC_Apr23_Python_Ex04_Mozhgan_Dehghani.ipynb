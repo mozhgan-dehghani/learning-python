{
 "cells": [
  {
   "attachments": {},
   "cell_type": "markdown",
   "id": "cea1fcd3",
   "metadata": {},
   "source": [
    "### Display the following pattern in the output."
   ]
  },
  {
   "attachments": {},
   "cell_type": "markdown",
   "id": "9d733966",
   "metadata": {},
   "source": [
    "<img src=\"123.png\" alt=\"Alternative text\" />"
   ]
  },
  {
   "cell_type": "code",
   "execution_count": null,
   "id": "6e672eb4",
   "metadata": {},
   "outputs": [],
   "source": [
    "str1= \"python\"\n",
    "for i in range (0,6):\n",
    "    print()\n",
    "    for j in range (0,i+1):\n",
    "        print (str1[j], end='')"
   ]
  },
  {
   "attachments": {},
   "cell_type": "markdown",
   "id": "761165c6",
   "metadata": {},
   "source": [
    "### ind the number of vowel characters (a, e, i, o, u) in the text below.\n",
    "### “Python isa high-level, general-purpose programming language.”"
   ]
  },
  {
   "cell_type": "code",
   "execution_count": 1,
   "id": "782e099a",
   "metadata": {},
   "outputs": [
    {
     "name": "stdout",
     "output_type": "stream",
     "text": [
      "19\n"
     ]
    }
   ],
   "source": [
    "str1 = \"Python isa high-level, general-purpose programming language.\"\n",
    "c=0\n",
    "for i in range(len(str1)):\n",
    "    if( str1[i]== \"a\" \n",
    "      or str1[i]== \"e\" \n",
    "      or str1[i]== \"i\" \n",
    "      or str1[i]== \"o\" \n",
    "      or str1[i]== \"u\"\n",
    "      ) :\n",
    "        c+=1\n",
    "print(c)\n",
    "     "
   ]
  },
  {
   "attachments": {},
   "cell_type": "markdown",
   "id": "a7b38ce5",
   "metadata": {},
   "source": [
    "### Get a number from the input and display the following result."
   ]
  },
  {
   "attachments": {},
   "cell_type": "markdown",
   "id": "400fc6cf",
   "metadata": {},
   "source": [
    "<img src=\"125.png\" alt=\"Alternative text\" />"
   ]
  },
  {
   "cell_type": "code",
   "execution_count": 3,
   "id": "a80eac5c",
   "metadata": {},
   "outputs": [
    {
     "name": "stdout",
     "output_type": "stream",
     "text": [
      "enter a number5\n",
      "5 * 0 = 0 \n",
      "5 * 2 = 10 \n",
      "5 * 4 = 20 \n",
      "5 * 6 = 30 \n",
      "5 * 8 = 40 \n",
      "5 * 10 = 50 \n"
     ]
    }
   ],
   "source": [
    "number=int(input(\"enter a number\"))\n",
    "for i in range (0,11,2):\n",
    "    multi= number*i\n",
    "    print(f\"{number} * {i} = {multi} \")"
   ]
  },
  {
   "attachments": {},
   "cell_type": "markdown",
   "id": "2b34959e",
   "metadata": {},
   "source": [
    "### Get a number from the input and display the following result."
   ]
  },
  {
   "attachments": {},
   "cell_type": "markdown",
   "id": "18bbe583",
   "metadata": {},
   "source": [
    "<img src=\"126.png\" alt=\"Alternative text\" />"
   ]
  },
  {
   "cell_type": "code",
   "execution_count": 4,
   "id": "602fb05f",
   "metadata": {},
   "outputs": [
    {
     "name": "stdout",
     "output_type": "stream",
     "text": [
      "enter a number5\n",
      "5//0= erorr\n",
      "5//1=5\n",
      "5//2=2\n",
      "5//3=1\n",
      "5//4=1\n"
     ]
    }
   ],
   "source": [
    "number=int(input(\"enter a number\"))\n",
    "for i in range (0,5):\n",
    "    if i==0:\n",
    "        print(f\"{number}//{i}= erorr\")\n",
    "    else:\n",
    "        multi= number//i\n",
    "        print(f\"{number}//{i}={multi}\")"
   ]
  },
  {
   "cell_type": "code",
   "execution_count": null,
   "id": "e434fb3a",
   "metadata": {},
   "outputs": [],
   "source": []
  }
 ],
 "metadata": {
  "kernelspec": {
   "display_name": "Python 3 (ipykernel)",
   "language": "python",
   "name": "python3"
  },
  "language_info": {
   "codemirror_mode": {
    "name": "ipython",
    "version": 3
   },
   "file_extension": ".py",
   "mimetype": "text/x-python",
   "name": "python",
   "nbconvert_exporter": "python",
   "pygments_lexer": "ipython3",
   "version": "3.10.9"
  }
 },
 "nbformat": 4,
 "nbformat_minor": 5
}
