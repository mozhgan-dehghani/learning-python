{
 "cells": [
  {
   "attachments": {},
   "cell_type": "markdown",
   "metadata": {},
   "source": [
    "<h5 style=\"background-color:#1765e3;text-align:left;border-radius:40px;border: 1px;padding: 10px;color:white\"><b>1- Based on some examples (code), show the difference between list and tuple(50)</h5>"
   ]
  },
  {
   "cell_type": "code",
   "execution_count": 1,
   "metadata": {},
   "outputs": [
    {
     "ename": "TypeError",
     "evalue": "'tuple' object does not support item assignment",
     "output_type": "error",
     "traceback": [
      "\u001b[1;31m---------------------------------------------------------------------------\u001b[0m",
      "\u001b[1;31mTypeError\u001b[0m                                 Traceback (most recent call last)",
      "Cell \u001b[1;32mIn[1], line 2\u001b[0m\n\u001b[0;32m      1\u001b[0m tuple1 \u001b[39m=\u001b[39m (\u001b[39m2\u001b[39m , \u001b[39m2.2\u001b[39m, \u001b[39mTrue\u001b[39;00m, \u001b[39m\"\u001b[39m\u001b[39mpython\u001b[39m\u001b[39m\"\u001b[39m, \u001b[39m10\u001b[39m ) \u001b[39m# It is unchangeable\u001b[39;00m\n\u001b[1;32m----> 2\u001b[0m tuple1[\u001b[39m2\u001b[39m] \u001b[39m=\u001b[39m \u001b[39m20\u001b[39m  \u001b[39m#======>#'tuple' object does not support item assignment\u001b[39;00m\n\u001b[0;32m      3\u001b[0m tuple1\u001b[39m.\u001b[39mremove(\u001b[39m2\u001b[39m)\n\u001b[0;32m      4\u001b[0m \u001b[39mtuple\u001b[39m\u001b[39m.\u001b[39mappend(\u001b[39m100\u001b[39m)\n",
      "\u001b[1;31mTypeError\u001b[0m: 'tuple' object does not support item assignment"
     ]
    }
   ],
   "source": [
    "tuple1 = (2 , 2.2, True, \"python\", 10 ) # It is unchangeable\n",
    "tuple1[2] = 20  #======>#'tuple' object does not support item assignment\n",
    "tuple1.remove(2)\n",
    "tuple.append(100)\n",
    "\n"
   ]
  },
  {
   "cell_type": "code",
   "execution_count": 2,
   "metadata": {},
   "outputs": [
    {
     "name": "stdout",
     "output_type": "stream",
     "text": [
      "[1, 4, 10]\n"
     ]
    }
   ],
   "source": [
    "list1 = [1, 4 , \"java\"]\n",
    "list1[2] = \"python\"\n",
    "list1.pop()\n",
    "list1.append(10)\n",
    "print(list1)"
   ]
  },
  {
   "attachments": {},
   "cell_type": "markdown",
   "metadata": {},
   "source": [
    "<h5 style=\"background-color:#1765e3;text-align:left;border-radius:40px;border: 1px;padding: 10px;color:white\"><b>2- Tuple(100)</h5>"
   ]
  },
  {
   "attachments": {},
   "cell_type": "markdown",
   "metadata": {},
   "source": [
    "Create an empty tuple"
   ]
  },
  {
   "cell_type": "code",
   "execution_count": 37,
   "metadata": {},
   "outputs": [
    {
     "name": "stdout",
     "output_type": "stream",
     "text": [
      "<class 'tuple'>\n"
     ]
    }
   ],
   "source": [
    "tuple1 = ()\n",
    "#or\n",
    "t1 = tuple()\n",
    "print(type(t1))"
   ]
  },
  {
   "attachments": {},
   "cell_type": "markdown",
   "metadata": {},
   "source": [
    "Create a tuple with one item"
   ]
  },
  {
   "cell_type": "code",
   "execution_count": 38,
   "metadata": {},
   "outputs": [
    {
     "name": "stdout",
     "output_type": "stream",
     "text": [
      "(120.2,)\n",
      "<class 'tuple'>\n"
     ]
    }
   ],
   "source": [
    "tuple2 = (120.2 ,)\n",
    "print(tuple2)\n",
    "print(type(tuple2))"
   ]
  },
  {
   "attachments": {},
   "cell_type": "markdown",
   "metadata": {},
   "source": [
    "Create a tuple with more than one item."
   ]
  },
  {
   "cell_type": "code",
   "execution_count": 21,
   "metadata": {},
   "outputs": [
    {
     "name": "stdout",
     "output_type": "stream",
     "text": [
      "('14', '15')\n"
     ]
    }
   ],
   "source": [
    "x = int(input(\"please inter a number: \"))\n",
    "list2 = []\n",
    "for i in range(x):\n",
    "    i = int(input(\"please inter a item:\"))\n",
    "    list2.append(i)\n",
    "list2 = tuple(list2)\n",
    "print(list2)\n",
    "    "
   ]
  },
  {
   "attachments": {},
   "cell_type": "markdown",
   "metadata": {},
   "source": [
    "Concatenate two tuples of Part2 and Part3"
   ]
  },
  {
   "cell_type": "code",
   "execution_count": 23,
   "metadata": {},
   "outputs": [
    {
     "name": "stdout",
     "output_type": "stream",
     "text": [
      "(120.2, '14', '15')\n"
     ]
    }
   ],
   "source": [
    "tuple3 = tuple2 + list2\n",
    "print(tuple3)"
   ]
  },
  {
   "attachments": {},
   "cell_type": "markdown",
   "metadata": {},
   "source": [
    "Check 1 is in tuple of Part4 or no."
   ]
  },
  {
   "cell_type": "code",
   "execution_count": 24,
   "metadata": {},
   "outputs": [
    {
     "name": "stdout",
     "output_type": "stream",
     "text": [
      "no\n"
     ]
    }
   ],
   "source": [
    "if 1 in tuple3:\n",
    "    print(\"yes\")\n",
    "else:\n",
    "    print(\"no\")"
   ]
  },
  {
   "attachments": {},
   "cell_type": "markdown",
   "metadata": {},
   "source": [
    "<h5 style=\"background-color:#1765e3;text-align:left;border-radius:40px;border: 1px;padding: 10px;color:white\"><b>3- Answer the questions according to the list below.\n",
    "numbers = (10, 20, 30, 5, 40, 20, 4, 2, 1,8, 80)  (100)</h5>"
   ]
  },
  {
   "attachments": {},
   "cell_type": "markdown",
   "metadata": {},
   "source": [
    "Add 100 at the end of tuple"
   ]
  },
  {
   "cell_type": "code",
   "execution_count": 26,
   "metadata": {},
   "outputs": [
    {
     "name": "stdout",
     "output_type": "stream",
     "text": [
      "(10, 20, 30, 5, 40, 20, 4, 2, 1, 8, 80, 100)\n"
     ]
    }
   ],
   "source": [
    "numbers = (10, 20, 30, 5, 40, 20, 4, 2, 1,8, 80)\n",
    "numbers = list(numbers)\n",
    "numbers.append(100)\n",
    "numbers = tuple(numbers)\n",
    "print(numbers)"
   ]
  },
  {
   "attachments": {},
   "cell_type": "markdown",
   "metadata": {},
   "source": [
    "Add 50 in the index of 3."
   ]
  },
  {
   "cell_type": "code",
   "execution_count": 28,
   "metadata": {},
   "outputs": [
    {
     "name": "stdout",
     "output_type": "stream",
     "text": [
      "(10, 20, 30, 50, 5, 40, 20, 4, 2, 1, 8, 80)\n"
     ]
    }
   ],
   "source": [
    "numbers = (10, 20, 30, 5, 40, 20, 4, 2, 1,8, 80)\n",
    "numbers = list(numbers)\n",
    "numbers.insert(3 , 50)\n",
    "numbers = tuple(numbers)\n",
    "print(numbers)"
   ]
  },
  {
   "attachments": {},
   "cell_type": "markdown",
   "metadata": {},
   "source": [
    "Remove 30 from tuple"
   ]
  },
  {
   "cell_type": "code",
   "execution_count": 29,
   "metadata": {},
   "outputs": [
    {
     "name": "stdout",
     "output_type": "stream",
     "text": [
      "(10, 20, 5, 40, 20, 4, 2, 1, 8, 80)\n"
     ]
    }
   ],
   "source": [
    "numbers = (10, 20, 30, 5, 40, 20, 4, 2, 1,8, 80)\n",
    "numbers = list(numbers)\n",
    "numbers.remove(30)\n",
    "numbers = tuple(numbers)\n",
    "print(numbers)"
   ]
  },
  {
   "attachments": {},
   "cell_type": "markdown",
   "metadata": {},
   "source": [
    "Sort the tuple."
   ]
  },
  {
   "cell_type": "code",
   "execution_count": 32,
   "metadata": {},
   "outputs": [
    {
     "name": "stdout",
     "output_type": "stream",
     "text": [
      "(1, 2, 4, 5, 8, 10, 20, 20, 30, 40, 80)\n"
     ]
    }
   ],
   "source": [
    "numbers = (10, 20, 30, 5, 40, 20, 4, 2, 1,8, 80)\n",
    "numbers = list(numbers)\n",
    "numbers.sort()\n",
    "numbers = tuple(numbers)\n",
    "print(numbers)\n"
   ]
  },
  {
   "attachments": {},
   "cell_type": "markdown",
   "metadata": {},
   "source": [
    "<h5 style=\"background-color:#1765e3;text-align:left;border-radius:40px;border: 1px;padding: 10px;color:white\"><b>4- Write a python program that takes a list of tuple and display other list that only have\n",
    "first and last items of each tuple.</h5>"
   ]
  },
  {
   "cell_type": "code",
   "execution_count": 1,
   "metadata": {},
   "outputs": [],
   "source": [
    "# Input:[(1, 2, 3), (3, 5, 6), (4, 10, 12)]\n",
    "# Output: [(1, 3), (3, 6), (4, 12)]"
   ]
  },
  {
   "cell_type": "code",
   "execution_count": 33,
   "metadata": {},
   "outputs": [
    {
     "name": "stdout",
     "output_type": "stream",
     "text": [
      "[(0, 1, 2), (1, 2, 3), (2, 3, 4)]\n"
     ]
    }
   ],
   "source": [
    "list1 = [] \n",
    "len = int(input(\"please inter a number:\"))\n",
    "for i in range(len):\n",
    "    tuple1 = (i , i+1 , i+2)\n",
    "    list1.append(tuple1)\n",
    "print(list1)\n"
   ]
  },
  {
   "cell_type": "code",
   "execution_count": 34,
   "metadata": {},
   "outputs": [
    {
     "name": "stdout",
     "output_type": "stream",
     "text": [
      "(0, 2)\n",
      "(1, 3)\n",
      "(2, 4)\n",
      "[(0, 2), (1, 3), (2, 4)]\n"
     ]
    }
   ],
   "source": [
    "for i , t in enumerate(list1):\n",
    "    t = list(t)\n",
    "    t.pop(1)\n",
    "    t = tuple(t)\n",
    "    print(t)\n",
    "    list1[i] = t\n",
    "print(list1)\n",
    "    \n",
    "    \n",
    " \n",
    " \n",
    "    \n",
    "    "
   ]
  },
  {
   "cell_type": "code",
   "execution_count": 40,
   "metadata": {},
   "outputs": [
    {
     "data": {
      "text/plain": [
       "'b'"
      ]
     },
     "execution_count": 40,
     "metadata": {},
     "output_type": "execute_result"
    }
   ],
   "source": []
  },
  {
   "attachments": {},
   "cell_type": "markdown",
   "metadata": {},
   "source": [
    "<h5 style=\"background-color:#1765e3;text-align:left;border-radius:40px;border: 1px;padding: 10px;color:white\"><b>5- Generate 10 different random numbers between 100 and two 200.(100)\n",
    " </h5>"
   ]
  },
  {
   "cell_type": "code",
   "execution_count": 49,
   "metadata": {},
   "outputs": [
    {
     "name": "stdout",
     "output_type": "stream",
     "text": [
      "{100, 101, 136, 140, 110, 144, 115, 179, 125}\n"
     ]
    }
   ],
   "source": [
    "import random\n",
    "myset = set()\n",
    "for i in range(0,10):\n",
    "    x = random.randint(100,200)\n",
    "    myset.add(x)\n",
    "print(myset)"
   ]
  },
  {
   "attachments": {},
   "cell_type": "markdown",
   "metadata": {},
   "source": [
    "<h5 style=\"background-color:#1765e3;text-align:left;border-radius:40px;border: 1px;padding: 10px;color:white\"><b>6- Create two lists, then create a third list that contains values that are in the first list but\n",
    "not in the second list.\n",
    " </h5>"
   ]
  },
  {
   "cell_type": "code",
   "execution_count": 51,
   "metadata": {},
   "outputs": [
    {
     "name": "stdout",
     "output_type": "stream",
     "text": [
      "['cherry', 'banana']\n"
     ]
    }
   ],
   "source": [
    "\n",
    "list1 = [\"apple\", \"banana\", \"cherry\"]\n",
    "list2 = [\"google\", \"microsoft\", \"apple\"]\n",
    "difference = list(set(list1) - set(list2))\n",
    "print(difference)"
   ]
  },
  {
   "attachments": {},
   "cell_type": "markdown",
   "metadata": {},
   "source": [
    "<h5 style=\"background-color:#1765e3;text-align:left;border-radius:40px;border: 1px;padding: 10px;color:white\"><b>7- Find two new methods for Tuple and Set.\n",
    " </h5>"
   ]
  },
  {
   "cell_type": "code",
   "execution_count": null,
   "metadata": {},
   "outputs": [],
   "source": [
    "#Multiply the fruits tuple by 2\n",
    "fruits = (\"apple\", \"banana\", \"cherry\")\n",
    "mytuple = fruits * 2\n",
    "print(mytuple)"
   ]
  },
  {
   "cell_type": "code",
   "execution_count": 58,
   "metadata": {},
   "outputs": [
    {
     "name": "stdout",
     "output_type": "stream",
     "text": [
      "2\n"
     ]
    }
   ],
   "source": [
    "#Return the number of times the value 5 appears in the tuple:\n",
    "thistuple = (1, 3, 7, 8, 7, 5, 4, 6, 8, 5)\n",
    "x = thistuple.count(5)\n",
    "print(x) "
   ]
  },
  {
   "cell_type": "code",
   "execution_count": 57,
   "metadata": {},
   "outputs": [
    {
     "name": "stdout",
     "output_type": "stream",
     "text": [
      "{1, 2, 3, 'c', 'b', 'a'}\n"
     ]
    }
   ],
   "source": [
    "#The union() method returns a new set with all items from both sets:\n",
    "set1 = {\"a\", \"b\" , \"c\"}\n",
    "set2 = {1, 2, 3}\n",
    "set3 = set1.union(set2)\n",
    "print(set3)"
   ]
  },
  {
   "cell_type": "code",
   "execution_count": 59,
   "metadata": {},
   "outputs": [
    {
     "name": "stdout",
     "output_type": "stream",
     "text": [
      "True\n"
     ]
    }
   ],
   "source": [
    "#Return True if all items in set x are present in set y\n",
    "x = {\"a\", \"b\", \"c\"}\n",
    "y = {\"f\", \"e\", \"d\", \"c\", \"b\", \"a\"}\n",
    "z = x.issubset(y)\n",
    "print(z)"
   ]
  },
  {
   "attachments": {},
   "cell_type": "markdown",
   "metadata": {},
   "source": [
    "<h3 style=\"background-color:#ff3300\n",
    ";text-align:center;border-radius:40px;border: 1px;padding: 10px;color:white\"><b>Exercise 10<br>Score: 150</h3>"
   ]
  },
  {
   "attachments": {},
   "cell_type": "markdown",
   "metadata": {},
   "source": [
    "<h5 style=\"background-color:#1765e3;text-align:left;border-radius:40px;border: 1px;padding: 10px;color:white\"><b>1- Write a recursive function for the binary search algorithm. (150)\n",
    " </h5>"
   ]
  },
  {
   "cell_type": "code",
   "execution_count": 40,
   "metadata": {},
   "outputs": [],
   "source": [
    "def binary_search(low,hig,int_list,target):\n",
    "  if low<=hig:\n",
    "     mid = (hig+low) // 2\n",
    "     if int_list[mid] == target:\n",
    "       return mid +1\n",
    "     elif target < int_list[mid]:\n",
    "       return binary_search(low,mid-1,int_list,target)\n",
    "     elif target > int_list[mid]:\n",
    "       return binary_search(mid+1,hig,int_list,target)\n",
    "  else:\n",
    "     return -1"
   ]
  },
  {
   "cell_type": "code",
   "execution_count": 41,
   "metadata": {},
   "outputs": [
    {
     "data": {
      "text/plain": [
       "7"
      ]
     },
     "execution_count": 41,
     "metadata": {},
     "output_type": "execute_result"
    }
   ],
   "source": [
    "list1 = [1,2,4,7,17,19,45,50,51,62,70,100]\n",
    "binary_search(0,11,list1,45)"
   ]
  }
 ],
 "metadata": {
  "kernelspec": {
   "display_name": "base",
   "language": "python",
   "name": "python3"
  },
  "language_info": {
   "codemirror_mode": {
    "name": "ipython",
    "version": 3
   },
   "file_extension": ".py",
   "mimetype": "text/x-python",
   "name": "python",
   "nbconvert_exporter": "python",
   "pygments_lexer": "ipython3",
   "version": "3.10.9"
  },
  "orig_nbformat": 4
 },
 "nbformat": 4,
 "nbformat_minor": 2
}
