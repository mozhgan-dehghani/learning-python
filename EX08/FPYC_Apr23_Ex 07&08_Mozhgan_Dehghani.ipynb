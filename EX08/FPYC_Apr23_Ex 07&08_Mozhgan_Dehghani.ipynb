{
 "cells": [
  {
   "attachments": {},
   "cell_type": "markdown",
   "metadata": {},
   "source": [
    "<h5 style=\"background-color:#1765e3;text-align:left;border-radius:40px;border: 1px;padding: 10px;\"><b>3- Receive two strings from the user in the following format, then receive one of the +, - and * and perform the requested calculations.(150)</h5>"
   ]
  },
  {
   "cell_type": "code",
   "execution_count": 9,
   "metadata": {},
   "outputs": [
    {
     "name": "stdout",
     "output_type": "stream",
     "text": [
      "[1, 2, 3, 4, 5, 6] [1, 2, 3, 4]\n",
      "[1, 4, 9, 16]\n"
     ]
    }
   ],
   "source": [
    "sum_list = lambda a, b: a + b\n",
    "multi_list = lambda a, b: a * b\n",
    "minus_list = lambda a , b: a-b\n",
    "st1 = input(\"pleas intre a number\")\n",
    "st2 = input(\"pleas intre a number\")\n",
    "st3 = input(\"pleas intre a sign\")\n",
    "x1= st1.split()\n",
    "x2= st2.split()\n",
    "list1=list(map(int,x1))\n",
    "list2=list(map(int,x2))\n",
    "print(list1,list2)\n",
    "if st3 == \"+\":\n",
    "    list3 = list(map(sum_list, list1, list2))\n",
    "    print(list3)\n",
    "elif st3 == \"-\":\n",
    "    list3 = list(map(minus_list, list1, list2))\n",
    "    print(list3)\n",
    "else:\n",
    "    list3 = list(map(multi_list, list1, list2))\n",
    "    print(list3)"
   ]
  },
  {
   "attachments": {},
   "cell_type": "markdown",
   "metadata": {},
   "source": [
    "<h5 style=\"background-color:#1765e3;text-align:left;border-radius:40px;border: 1px;padding: 10px;\"><b>1- (Dictionary) : Answer the following questions based on the dictionary topic.\n",
    "</h5>"
   ]
  },
  {
   "attachments": {},
   "cell_type": "markdown",
   "metadata": {},
   "source": [
    "<h5>A) Create a product dictionary that contains the following information.</h5>"
   ]
  },
  {
   "cell_type": "code",
   "execution_count": 11,
   "metadata": {},
   "outputs": [
    {
     "name": "stdout",
     "output_type": "stream",
     "text": [
      "{'code': '1', 'name': 'a1', 'price': 14.0, 'quantity': 5, 'sales_branch': 'c1'}\n"
     ]
    }
   ],
   "source": [
    "product = {}\n",
    "code = input(\"Product code: \")\n",
    "name = input(\"product name: \")\n",
    "price = float(input(\"product price:\"))\n",
    "quantity = int(input(\"product quantity:\"))\n",
    "sales_branch = input(\"product sales branch:\")\n",
    "product[\"code\"] = code\n",
    "product[\"name\"] = name\n",
    "product[\"price\"] = price\n",
    "product[\"quantity\"] = quantity\n",
    "product[\"sales_branch\"] = sales_branch\n",
    "print(product)"
   ]
  },
  {
   "attachments": {},
   "cell_type": "markdown",
   "metadata": {},
   "source": [
    "<h5>B) Get a number from the user and create a list of products as long as the entered number.</h5>"
   ]
  },
  {
   "cell_type": "code",
   "execution_count": 14,
   "metadata": {},
   "outputs": [
    {
     "name": "stdout",
     "output_type": "stream",
     "text": [
      "[{'code': '1', 'name': 'a1', 'price': 21.0, 'quantity': 4, 'sales_branch': 'c1'}]\n",
      "[{'code': '1', 'name': 'a1', 'price': 21.0, 'quantity': 4, 'sales_branch': 'c1'}, {'code': '2', 'name': 'a2', 'price': 34.0, 'quantity': 6, 'sales_branch': 'c2'}]\n"
     ]
    }
   ],
   "source": [
    "products = []\n",
    "x = int(input(\"please enter a number\"))\n",
    "for i in range(x):\n",
    "    product = {}\n",
    "    code = input(\"Product code: \")\n",
    "    name = input(\"product name: \")\n",
    "    price = float(input(\"product price:\"))\n",
    "    quantity = int(input(\"product quantity:\"))\n",
    "    sales_branch = input(\"product sales branch:\")\n",
    "    product[\"code\"] = code\n",
    "    product[\"name\"] = name\n",
    "    product[\"price\"] = price\n",
    "    product[\"quantity\"] = quantity\n",
    "    product[\"sales_branch\"] = sales_branch\n",
    "    products.append(product)\n",
    "    print(products)"
   ]
  },
  {
   "attachments": {},
   "cell_type": "markdown",
   "metadata": {},
   "source": [
    "<h5>C) Display the price of the first product.</h5>"
   ]
  },
  {
   "cell_type": "code",
   "execution_count": 15,
   "metadata": {},
   "outputs": [
    {
     "data": {
      "text/plain": [
       "21.0"
      ]
     },
     "execution_count": 15,
     "metadata": {},
     "output_type": "execute_result"
    }
   ],
   "source": [
    "products[0][\"price\"]"
   ]
  },
  {
   "attachments": {},
   "cell_type": "markdown",
   "metadata": {},
   "source": [
    "<h5>D) Remove the branch from all products.</h5>"
   ]
  },
  {
   "cell_type": "code",
   "execution_count": 16,
   "metadata": {},
   "outputs": [
    {
     "name": "stdout",
     "output_type": "stream",
     "text": [
      "[{'code': '1', 'name': 'a1', 'price': 21.0, 'quantity': 4}, {'code': '2', 'name': 'a2', 'price': 34.0, 'quantity': 6}]\n"
     ]
    }
   ],
   "source": [
    "for i in products:\n",
    "    i.pop(\"sales_branch\")\n",
    "print(products)"
   ]
  },
  {
   "attachments": {},
   "cell_type": "markdown",
   "metadata": {},
   "source": [
    "<h5>E) Display product prices in a list in order.</h5>"
   ]
  },
  {
   "cell_type": "code",
   "execution_count": 6,
   "metadata": {},
   "outputs": [
    {
     "name": "stdout",
     "output_type": "stream",
     "text": [
      "[12.0, 13.0]\n"
     ]
    }
   ],
   "source": [
    "list1 = []\n",
    "for i in products:\n",
    "    list1.append(i[\"price\"])\n",
    "x=sorted(list1)\n",
    "print(x)"
   ]
  },
  {
   "attachments": {},
   "cell_type": "markdown",
   "metadata": {},
   "source": [
    "<h5> F) Show average prices.</h5>"
   ]
  },
  {
   "cell_type": "code",
   "execution_count": 8,
   "metadata": {},
   "outputs": [
    {
     "name": "stdout",
     "output_type": "stream",
     "text": [
      "12.5\n"
     ]
    }
   ],
   "source": [
    "def ave(x):\n",
    "    sum=0\n",
    "    l=len(x)\n",
    "    for i in x:\n",
    "        sum+=i\n",
    "\n",
    "    sd= sum/l\n",
    "    print(sd)\n",
    "ave(list1)"
   ]
  }
 ],
 "metadata": {
  "kernelspec": {
   "display_name": "base",
   "language": "python",
   "name": "python3"
  },
  "language_info": {
   "codemirror_mode": {
    "name": "ipython",
    "version": 3
   },
   "file_extension": ".py",
   "mimetype": "text/x-python",
   "name": "python",
   "nbconvert_exporter": "python",
   "pygments_lexer": "ipython3",
   "version": "3.10.9"
  },
  "orig_nbformat": 4
 },
 "nbformat": 4,
 "nbformat_minor": 2
}
